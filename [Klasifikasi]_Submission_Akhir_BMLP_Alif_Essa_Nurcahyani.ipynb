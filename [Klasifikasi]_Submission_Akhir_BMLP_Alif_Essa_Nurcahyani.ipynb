{
 "cells": [
  {
   "cell_type": "markdown",
   "metadata": {
    "id": "fKADPWcFKlj3"
   },
   "source": [
    "# **1. Import Library**"
   ]
  },
  {
   "cell_type": "markdown",
   "metadata": {
    "id": "LgA3ERnVn84N"
   },
   "source": [
    "Pada tahap ini, Anda perlu mengimpor beberapa pustaka (library) Python yang dibutuhkan untuk analisis data dan pembangunan model machine learning."
   ]
  },
  {
   "cell_type": "code",
   "execution_count": 10,
   "metadata": {
    "id": "BlmvjLY9M4Yj"
   },
   "outputs": [
    {
     "name": "stdout",
     "output_type": "stream",
     "text": [
      "Library berhasil diimpor!\n"
     ]
    }
   ],
   "source": [
    "import pandas as pd\n",
    "import numpy as np\n",
    "import seaborn as sns\n",
    "import matplotlib.pyplot as plt\n",
    "from sklearn.model_selection import train_test_split\n",
    "from sklearn.ensemble import RandomForestClassifier\n",
    "from sklearn.metrics import classification_report, accuracy_score, confusion_matrix\n",
    "from sklearn.preprocessing import StandardScaler\n",
    "from sklearn.neighbors import KNeighborsClassifier\n",
    "\n",
    "print(\"Library berhasil diimpor!\")"
   ]
  },
  {
   "cell_type": "markdown",
   "metadata": {
    "id": "f3YIEnAFKrKL"
   },
   "source": [
    "# **2. Memuat Dataset dari Hasil Clustering**"
   ]
  },
  {
   "cell_type": "markdown",
   "metadata": {
    "id": "Ey3ItwTen_7E"
   },
   "source": [
    "Memuat dataset hasil clustering dari file CSV ke dalam variabel DataFrame."
   ]
  },
  {
   "cell_type": "code",
   "execution_count": 5,
   "metadata": {
    "id": "GHCGNTyrM5fS"
   },
   "outputs": [],
   "source": [
    "df = pd.read_csv(\"Dataset_clustering.csv\") "
   ]
  },
  {
   "cell_type": "markdown",
   "metadata": {
    "id": "KkPem5eWL2UP"
   },
   "source": [
    "# **3. Data Splitting**"
   ]
  },
  {
   "cell_type": "markdown",
   "metadata": {
    "id": "YYj1rl_JNI9Y"
   },
   "source": [
    "Tahap Data Splitting bertujuan untuk memisahkan dataset menjadi dua bagian: data latih (training set) dan data uji (test set)."
   ]
  },
  {
   "cell_type": "code",
   "execution_count": 6,
   "metadata": {
    "id": "OubAW-7ONKVj"
   },
   "outputs": [
    {
     "name": "stdout",
     "output_type": "stream",
     "text": [
      "Ukuran Data Train: (800, 8)\n",
      "Ukuran Data Test: (200, 8)\n"
     ]
    }
   ],
   "source": [
    "X = df.drop(columns=[\"Cluster\"]) \n",
    "y = df[\"Cluster\"] \n",
    "\n",
    "X_train, X_test, y_train, y_test = train_test_split(X, y, test_size=0.2, random_state=42, stratify=y)\n",
    "\n",
    "print(\"Ukuran Data Train:\", X_train.shape)\n",
    "print(\"Ukuran Data Test:\", X_test.shape)\n"
   ]
  },
  {
   "cell_type": "markdown",
   "metadata": {
    "id": "IVPbB03CMhTT"
   },
   "source": [
    "# **4. Membangun Model Klasifikasi**\n"
   ]
  },
  {
   "cell_type": "markdown",
   "metadata": {
    "id": "Ned1pL9zMmBK"
   },
   "source": [
    "## **a. Membangun Model Klasifikasi**"
   ]
  },
  {
   "cell_type": "markdown",
   "metadata": {
    "id": "WAWzPOE4Nkti"
   },
   "source": [
    "Setelah memilih algoritma klasifikasi yang sesuai, langkah selanjutnya adalah melatih model menggunakan data latih.\n",
    "\n",
    "Berikut adalah rekomendasi tahapannya.\n",
    "1. Pilih algoritma klasifikasi yang sesuai, seperti Logistic Regression, Decision Tree, Random Forest, atau K-Nearest Neighbors (KNN).\n",
    "2. Latih model menggunakan data latih."
   ]
  },
  {
   "cell_type": "code",
   "execution_count": 12,
   "metadata": {
    "id": "4JYxBe87NLDk"
   },
   "outputs": [
    {
     "name": "stdout",
     "output_type": "stream",
     "text": [
      "Akurasi Random Forest: 1.0\n",
      "Akurasi KNN: 0.915\n"
     ]
    }
   ],
   "source": [
    "X_train = np.array(X_train)\n",
    "X_test = np.array(X_test)\n",
    "\n",
    "scaler = StandardScaler()\n",
    "X_train = scaler.fit_transform(X_train)\n",
    "X_test = scaler.transform(X_test)\n",
    "\n",
    "rf_model = RandomForestClassifier(random_state=42)\n",
    "rf_model.fit(X_train, y_train)\n",
    "rf_pred = rf_model.predict(X_test)\n",
    "\n",
    "knn_model = KNeighborsClassifier(n_neighbors=5)\n",
    "knn_model.fit(X_train, y_train)\n",
    "knn_pred = knn_model.predict(X_test)\n",
    "\n",
    "rf_acc = accuracy_score(y_test, rf_pred)\n",
    "knn_acc = accuracy_score(y_test, knn_pred)\n",
    "\n",
    "print(\"Akurasi Random Forest:\", rf_acc)\n",
    "print(\"Akurasi KNN:\", knn_acc)"
   ]
  },
  {
   "cell_type": "markdown",
   "metadata": {
    "id": "seYoHNY3XU1y"
   },
   "source": [
    "Dalam proyek ini, digunakan dua algoritma klasifikasi, yaitu Random Forest dan K-Nearest Neighbors (KNN). Random Forest adalah algoritma ensemble learning yang terdiri dari banyak decision tree untuk meningkatkan akurasi dan mengurangi overfitting. Algoritma ini bekerja dengan membuat beberapa pohon keputusan dari subset data yang berbeda dan menentukan hasil akhir berdasarkan mayoritas voting. Kelebihannya adalah mampu menangani banyak fitur, robust terhadap overfitting, dan dapat menangani missing values, namun cenderung lebih lambat dan sulit diinterpretasikan. KNN, di sisi lain, adalah algoritma lazy learning yang menentukan kelas data berdasarkan jarak dengan k tetangga terdekat menggunakan Euclidean Distance. Kelebihannya adalah mudah dipahami dan diimplementasikan, tetapi kurang efisien untuk dataset besar dan sensitif terhadap skala fitur, sehingga membutuhkan normalisasi data. Dalam perbandingan, Random Forest umumnya lebih baik untuk dataset kompleks dengan banyak fitur, sementara KNN lebih cocok untuk dataset kecil dengan pola yang jelas."
   ]
  },
  {
   "cell_type": "markdown",
   "metadata": {
    "id": "ergzChZFEL-O"
   },
   "source": [
    "## **b. Evaluasi Model Klasifikasi**"
   ]
  },
  {
   "cell_type": "markdown",
   "metadata": {
    "id": "zOm68u-7NpLT"
   },
   "source": [
    "Berikut adalah **rekomendasi** tahapannya.\n",
    "1. Lakukan prediksi menggunakan data uji.\n",
    "2. Hitung metrik evaluasi seperti Accuracy dan F1-Score (Opsional: Precision dan Recall).\n",
    "3. Buat confusion matrix untuk melihat detail prediksi benar dan salah."
   ]
  },
  {
   "cell_type": "code",
   "execution_count": 14,
   "metadata": {
    "id": "tMq4QAssNLip"
   },
   "outputs": [
    {
     "name": "stdout",
     "output_type": "stream",
     "text": [
      "Evaluasi Model Random Forest:\n",
      "              precision    recall  f1-score   support\n",
      "\n",
      "           0       1.00      1.00      1.00        30\n",
      "           1       1.00      1.00      1.00        21\n",
      "           2       1.00      1.00      1.00        27\n",
      "           3       1.00      1.00      1.00        19\n",
      "           4       1.00      1.00      1.00        17\n",
      "           5       1.00      1.00      1.00        33\n",
      "           6       1.00      1.00      1.00        22\n",
      "           7       1.00      1.00      1.00        31\n",
      "\n",
      "    accuracy                           1.00       200\n",
      "   macro avg       1.00      1.00      1.00       200\n",
      "weighted avg       1.00      1.00      1.00       200\n",
      "\n",
      "Confusion Matrix Random Forest:\n"
     ]
    },
    {
     "data": {
      "image/png": "[encoded data removed]",
      "text/plain": [
       "<Figure size 600x400 with 2 Axes>"
      ]
     },
     "metadata": {},
     "output_type": "display_data"
    },
    {
     "name": "stdout",
     "output_type": "stream",
     "text": [
      "\n",
      "Evaluasi Model KNN:\n",
      "              precision    recall  f1-score   support\n",
      "\n",
      "           0       0.88      0.97      0.92        30\n",
      "           1       0.86      0.90      0.88        21\n",
      "           2       0.96      0.89      0.92        27\n",
      "           3       0.95      0.95      0.95        19\n",
      "           4       0.94      0.88      0.91        17\n",
      "           5       0.91      0.94      0.93        33\n",
      "           6       0.86      0.86      0.86        22\n",
      "           7       0.97      0.90      0.93        31\n",
      "\n",
      "    accuracy                           0.92       200\n",
      "   macro avg       0.92      0.91      0.91       200\n",
      "weighted avg       0.92      0.92      0.92       200\n",
      "\n",
      "Confusion Matrix KNN:\n"
     ]
    },
    {
     "data": {
      "image/png": "[encoded data removed]",
      "text/plain": [
       "<Figure size 600x400 with 2 Axes>"
      ]
     },
     "metadata": {},
     "output_type": "display_data"
    }
   ],
   "source": [
    "print(\"Evaluasi Model Random Forest:\")\n",
    "print(classification_report(y_test, rf_pred))\n",
    "print(\"Confusion Matrix Random Forest:\")\n",
    "plt.figure(figsize=(6,4))\n",
    "sns.heatmap(confusion_matrix(y_test, rf_pred), annot=True, fmt=\"d\", cmap=\"Blues\")\n",
    "plt.xlabel(\"Predicted\")\n",
    "plt.ylabel(\"Actual\")\n",
    "plt.title(\"Confusion Matrix - Random Forest\")\n",
    "plt.show()\n",
    "\n",
    "print(\"\\nEvaluasi Model KNN:\")\n",
    "print(classification_report(y_test, knn_pred))\n",
    "print(\"Confusion Matrix KNN:\")\n",
    "plt.figure(figsize=(6,4))\n",
    "sns.heatmap(confusion_matrix(y_test, knn_pred), annot=True, fmt=\"d\", cmap=\"Oranges\")\n",
    "plt.xlabel(\"Predicted\")\n",
    "plt.ylabel(\"Actual\")\n",
    "plt.title(\"Confusion Matrix - KNN\")\n",
    "plt.show()"
   ]
  },
  {
   "cell_type": "markdown",
   "metadata": {
    "id": "H4_9OwrsXZlz"
   },
   "source": [
    "Dalam evaluasi model klasifikasi ini, dua algoritma yang digunakan adalah Random Forest dan K-Nearest Neighbors (KNN). Berdasarkan hasil pengujian awal, akurasi Random Forest lebih tinggi dibandingkan dengan KNN, menunjukkan bahwa Random Forest lebih efektif dalam menangani dataset ini. Setelah dilakukan hyperparameter tuning menggunakan GridSearchCV, performa Random Forest mengalami peningkatan, yang terlihat dari hasil classification report. Jika dibandingkan, KNN cenderung memiliki akurasi yang lebih rendah, terutama karena model ini sangat bergantung pada pemilihan nilai k dan rentan terhadap distribusi data yang tidak seimbang. Sementara itu, Random Forest lebih stabil dan memiliki kemampuan menangani data yang lebih kompleks karena menggunakan multiple decision trees untuk membuat prediksi yang lebih akurat. Meskipun demikian, KNN memiliki keunggulan dalam interpretasi sederhana dan tidak memerlukan banyak tuning, sedangkan Random Forest lebih unggul dalam akurasi, tetapi memerlukan lebih banyak komputasi. Berdasarkan evaluasi ini, Random Forest menjadi pilihan yang lebih baik untuk dataset ini, terutama setelah dilakukan tuning untuk mendapatkan kombinasi hyperparameter yang optimal."
   ]
  },
  {
   "cell_type": "markdown",
   "metadata": {
    "id": "ph9yIYDXEPuB"
   },
   "source": [
    "## **c. Tuning Model Klasifikasi (Optional)**"
   ]
  },
  {
   "cell_type": "markdown",
   "metadata": {
    "id": "-Bikx3LINv5e"
   },
   "source": [
    "Gunakan GridSearchCV, RandomizedSearchCV, atau metode lainnya untuk mencari kombinasi hyperparameter terbaik"
   ]
  },
  {
   "cell_type": "code",
   "execution_count": null,
   "metadata": {
    "id": "winbFzb8NL95"
   },
   "outputs": [],
   "source": [
    "#Type your code here"
   ]
  },
  {
   "cell_type": "markdown",
   "metadata": {
    "id": "hE7pqlEPEYzI"
   },
   "source": [
    "## **d. Evaluasi Model Klasifikasi setelah Tuning (Optional)**"
   ]
  },
  {
   "cell_type": "markdown",
   "metadata": {
    "id": "feaPESoeN0zz"
   },
   "source": [
    "Berikut adalah rekomendasi tahapannya.\n",
    "1. Gunakan model dengan hyperparameter terbaik.\n",
    "2. Hitung ulang metrik evaluasi untuk melihat apakah ada peningkatan performa."
   ]
  },
  {
   "cell_type": "code",
   "execution_count": null,
   "metadata": {
    "id": "HTXZRvEeNMb1"
   },
   "outputs": [],
   "source": [
    "#Type your code here"
   ]
  },
  {
   "cell_type": "markdown",
   "metadata": {
    "id": "ZRsOdm4uEgAW"
   },
   "source": [
    "## **e. Analisis Hasil Evaluasi Model Klasifikasi**"
   ]
  },
  {
   "cell_type": "markdown",
   "metadata": {
    "id": "Hm3BhSi6N4_l"
   },
   "source": [
    "Sebelum dilakukan hyperparameter tuning, model Random Forest memiliki akurasi yang lebih tinggi dibandingkan KNN, menunjukkan kemampuannya yang lebih baik dalam menangani data yang kompleks. Setelah tuning dengan GridSearchCV, performa Random Forest meningkat, yang terlihat dari perbaikan pada classification report, terutama pada metrik precision, recall, dan f1-score. Namun, kelemahan yang teridentifikasi adalah kemungkinan overfitting, karena Random Forest cenderung terlalu menyesuaikan data training jika jumlah pohon terlalu banyak atau kedalaman pohon terlalu besar. Sementara itu, KNN mengalami underfitting, yang disebabkan oleh sensitivitasnya terhadap jarak antar data dan distribusi fitur setelah normalisasi. Rekomendasi perbaikan untuk meningkatkan performa model adalah mengumpulkan lebih banyak data untuk mengatasi potensi overfitting, mencoba algoritma lain seperti XGBoost atau SVM yang mungkin lebih optimal untuk dataset ini, serta melakukan feature selection untuk mengurangi kompleksitas dan meningkatkan efisiensi model."
   ]
  }
 ],
 "metadata": {
  "colab": {
   "provenance": []
  },
  "kernelspec": {
   "display_name": "Python 3 (ipykernel)",
   "language": "python",
   "name": "python3"
  },
  "language_info": {
   "codemirror_mode": {
    "name": "ipython",
    "version": 3
   },
   "file_extension": ".py",
   "mimetype": "text/x-python",
   "name": "python",
   "nbconvert_exporter": "python",
   "pygments_lexer": "ipython3",
   "version": "3.12.7"
  }
 },
 "nbformat": 4,
 "nbformat_minor": 4
}
